{
 "cells": [
  {
   "cell_type": "markdown",
   "source": [
    "# Noise\n",
    "\n",
    "In qubit experiments, noise is present in form of environmental influences and\n",
    "control imperfections. For the specific experiment we are studying, we required\n",
    "so far the resonance frequency to be constant, which is in reality not the case.\n",
    "Due to charge and interface dynamics, the resonance frequency randomly changes\n",
    "with time. We can simulate this behaviour by including the frequency detuning\n",
    "$\\delta_\\omega(t)$ as random variable in Schroedinger's equation.\n",
    "\n",
    "Since the dynamics of the resonance frequency are much slower than our gate\n",
    "times, we can assume the noise to be quasi static i.e. constant during a single\n",
    "simulation\n",
    "\n",
    "\\begin{align}\n",
    "\\delta_\\omega(t) = \\delta_\\omega(0) \\forall t \\in [0, T],\n",
    "\\end{align}\n",
    "\n",
    "where $T$ is the gate time of a single quantum gate. We assume the detuning to\n",
    "follow a Gaussian distribution with standard deviation $\\sigma_\\omega$. To\n",
    "simplify matters, we can study the idle evolution of the qubit in the rotating\n",
    "frame, when no driving is applied. The Hamiltonian is then simply:\n",
    "\n",
    "\\begin{align}\n",
    "H = \\delta_\\omega \\sigma_z\n",
    "\\end{align}\n"
   ],
   "metadata": {
    "collapsed": false,
    "pycharm": {
     "name": "#%% md\n"
    }
   }
  },
  {
   "cell_type": "code",
   "execution_count": 1,
   "outputs": [],
   "source": [
    "# repeat the setup from the last file\n",
    "\n",
    "import numpy as np\n",
    "from qopt import *\n",
    "\n",
    "\n",
    "sigma_x = DenseOperator.pauli_x()\n",
    "sigma_y = DenseOperator.pauli_y()\n",
    "sigma_z = DenseOperator.pauli_z()\n",
    "\n",
    "zero_matrix = 0 * sigma_x\n",
    "\n",
    "# we keep the control for the bonus question.\n",
    "h_ctrl = [.5 * sigma_x, .5 * sigma_y]\n",
    "h_drift = [zero_matrix]\n",
    "\n",
    "n_time_steps = 20\n",
    "total_time = 50  # ns\n",
    "\n",
    "time_steps = (total_time / n_time_steps) * np.ones((n_time_steps, ))\n",
    "\n",
    "control_amplitudes = np.zeros((n_time_steps, len(h_ctrl)))\n",
    "control_amplitudes[:, 0] = .005 * 2 * np.pi  # in 1/ns"
   ],
   "metadata": {
    "collapsed": false,
    "pycharm": {
     "name": "#%%\n"
    }
   }
  },
  {
   "cell_type": "markdown",
   "source": [
    "We need a new solver to solve the stochastic differential equation as Monte\n",
    "Carlo experiment. The noise trace generator simulates explicit noise\n",
    "realizations over which the fidelity can be averaged."
   ],
   "metadata": {
    "collapsed": false,
    "pycharm": {
     "name": "#%% md\n"
    }
   }
  },
  {
   "cell_type": "code",
   "execution_count": 2,
   "outputs": [],
   "source": [
    "\n",
    "sigma_omega = .001 * 2 * np.pi  # in 1/ns\n",
    "\n",
    "noise_trace_generator = NTGQuasiStatic(\n",
    "    standard_deviation=[sigma_omega],\n",
    "    n_samples_per_trace=n_time_steps,\n",
    "    n_traces=10,\n",
    ")\n",
    "\n",
    "solver = SchroedingerSMonteCarlo(\n",
    "    h_drift=h_drift * n_time_steps,\n",
    "    h_ctrl=h_ctrl,\n",
    "    h_noise=[.5 * sigma_z],\n",
    "    noise_trace_generator=noise_trace_generator,\n",
    "    initial_state=DenseOperator(np.eye(2)),\n",
    "    tau=time_steps\n",
    ")\n",
    "\n",
    "solver.set_optimization_parameters(0 * control_amplitudes)"
   ],
   "metadata": {
    "collapsed": false,
    "pycharm": {
     "name": "#%%\n"
    }
   }
  },
  {
   "cell_type": "markdown",
   "source": [
    "For convenience we will now use the CostFunction class, which gives an interface\n",
    "to the entanglement in the noise free case and also as average in Monte Carlo\n",
    "simulations. The infidelity is simply $I = 1 - F$."
   ],
   "metadata": {
    "collapsed": false,
    "pycharm": {
     "name": "#%% md\n"
    }
   }
  },
  {
   "cell_type": "code",
   "execution_count": 3,
   "outputs": [
    {
     "data": {
      "text/plain": "0.015173233873427384"
     },
     "execution_count": 3,
     "metadata": {},
     "output_type": "execute_result"
    }
   ],
   "source": [
    "\n",
    "noise_infid = OperationNoiseInfidelity(\n",
    "    solver=solver,\n",
    "    target=DenseOperator(np.eye(2)),\n",
    "    neglect_systematic_errors=True\n",
    ")\n",
    "\n",
    "noise_infid.costs()"
   ],
   "metadata": {
    "collapsed": false,
    "pycharm": {
     "name": "#%%\n"
    }
   }
  },
  {
   "cell_type": "markdown",
   "source": [
    "### Analysis Task:\n",
    "Analytically calculate the entanglement infidelity as function of the standard\n",
    "deviation $\\sigma_\\omega$ of the resonance frequency. You may assume the case\n",
    "of weak or zero driving."
   ],
   "metadata": {
    "collapsed": false,
    "pycharm": {
     "name": "#%% md\n"
    }
   }
  },
  {
   "cell_type": "markdown",
   "source": [
    "Answer:\n",
    "\n"
   ],
   "metadata": {
    "collapsed": false,
    "pycharm": {
     "name": "#%% md\n"
    }
   }
  },
  {
   "cell_type": "markdown",
   "source": [
    "### Task:\n",
    "Plot the averaged entanglement fidelity as function of $\\sigma_\\omega $.\n",
    "In the analysis: Fit the data to verify your analytical calculations."
   ],
   "metadata": {
    "collapsed": false,
    "pycharm": {
     "name": "#%% md\n"
    }
   }
  },
  {
   "cell_type": "code",
   "execution_count": 1,
   "outputs": [],
   "source": [
    "# Solution:\n"
   ],
   "metadata": {
    "collapsed": false,
    "pycharm": {
     "name": "#%%\n"
    }
   }
  },
  {
   "cell_type": "markdown",
   "source": [
    "### Task:\n",
    "Plot the averaged entanglement fidelity as function of total gate time $T$.\n",
    "In the analysis: Fit the data to verify your analytical calculations.\n"
   ],
   "metadata": {
    "collapsed": false
   }
  },
  {
   "cell_type": "code",
   "execution_count": null,
   "outputs": [],
   "source": [],
   "metadata": {
    "collapsed": false,
    "pycharm": {
     "name": "#%%\n"
    }
   }
  },
  {
   "cell_type": "markdown",
   "source": [
    "# Noise Mitigation\n",
    "\n",
    "Follow the step-by-step instructions to set up the numerical optimization of a\n",
    "noise mitigating pulse. As solver algorithm, you can use the one initialized\n",
    "above.\n",
    "\n",
    "1. Define a cost function for the quantification of systematic errors. Errors\n",
    "are systematic, if they also occur in the absence of noise. Use the class\n",
    "OperationInfidelity. As target use an $X_{\\pi / 2}$-gate."
   ],
   "metadata": {
    "collapsed": false
   }
  },
  {
   "cell_type": "code",
   "execution_count": null,
   "outputs": [],
   "source": [],
   "metadata": {
    "collapsed": false,
    "pycharm": {
     "name": "#%%\n"
    }
   }
  },
  {
   "cell_type": "markdown",
   "source": [
    "2. Initialize an instance of the Simulator class. It shall contain the cost\n",
    "function for the systematic errors from point 1, and the cost functions for\n",
    "noise induced errors initialized above."
   ],
   "metadata": {
    "collapsed": false
   }
  },
  {
   "cell_type": "code",
   "execution_count": null,
   "outputs": [],
   "source": [],
   "metadata": {
    "collapsed": false,
    "pycharm": {
     "name": "#%%\n"
    }
   }
  },
  {
   "cell_type": "markdown",
   "source": [
    "3. Initialize a LeastSquaresOptimizer. The upper and lower bounds should be\n",
    "$\\pm \\, 2 \\pi \\cdot 0.05$ GHz. You may use the termination conditions defined\n",
    "below.\n"
   ],
   "metadata": {
    "collapsed": false
   }
  },
  {
   "cell_type": "code",
   "execution_count": null,
   "outputs": [],
   "source": [],
   "metadata": {
    "collapsed": false,
    "pycharm": {
     "name": "#%%\n"
    }
   }
  },
  {
   "cell_type": "markdown",
   "source": [
    "4. Use random initial conditions to start the optimizer.\n",
    "5. Initialize a DataContainer\n",
    "6. Append the OptimizationResult from the optimization call to the\n",
    "DataContainer.\n",
    "7. Use an instance of the Analyser class to plot the values of the cost\n",
    "function during the optimization."
   ],
   "metadata": {
    "collapsed": false
   }
  },
  {
   "cell_type": "code",
   "execution_count": null,
   "outputs": [],
   "source": [],
   "metadata": {
    "collapsed": false,
    "pycharm": {
     "name": "#%%\n"
    }
   }
  },
  {
   "cell_type": "markdown",
   "source": [
    "8. Plot the final pulse on the Bloch sphere."
   ],
   "metadata": {
    "collapsed": false
   }
  },
  {
   "cell_type": "code",
   "execution_count": null,
   "outputs": [],
   "source": [],
   "metadata": {
    "collapsed": false,
    "pycharm": {
     "name": "#%%\n"
    }
   }
  },
  {
   "cell_type": "markdown",
   "source": [
    "# Bonus Question\n",
    "\n",
    "Bonus points if you can explain how the susceptibility to noise is improved.\n",
    "Hint: Article \"Echo Pulse\" on Wikipedia and chapter 3.5.2."
   ],
   "metadata": {
    "collapsed": false
   }
  }
 ],
 "metadata": {
  "kernelspec": {
   "display_name": "Python 3",
   "language": "python",
   "name": "python3"
  },
  "language_info": {
   "codemirror_mode": {
    "name": "ipython",
    "version": 2
   },
   "file_extension": ".py",
   "mimetype": "text/x-python",
   "name": "python",
   "nbconvert_exporter": "python",
   "pygments_lexer": "ipython2",
   "version": "2.7.6"
  }
 },
 "nbformat": 4,
 "nbformat_minor": 0
}