{
 "cells": [
  {
   "cell_type": "markdown",
   "source": [
    "# Frequency selective driving\n",
    "\n",
    "Since any practically useful algorithm on a quantum computer will require a high\n",
    "number of qubits, we are confronted with the issue of controlling multiple\n",
    "qubits at the same time. As first step towards a scalable quantum computer,\n",
    "several qubits can be placed on one computer chip.\n",
    "\n",
    "If we continue to drive with a single\n",
    "microwave source, than all qubits will receive a driving signal at the same\n",
    "time. In order to control the qubits separately, the architecture can exploit\n",
    "the fact, that each qubit can be tuned to a slightly different resonance\n",
    "frequency.\n",
    "\n",
    "We can now investigate to which extend qubits are affected by signals intended\n",
    "to drive other qubits by simulating off-resonant driving.\n",
    "For this study, we will simulate a driven qubit in the lab\n",
    "frame. We have the hamiltonian:\n",
    "\n",
    "\\begin{equation}\n",
    "H = \\frac{\\hbar \\omega_0}{2} \\sigma_z + \\hbar A \\text{sin}(\\omega t + \\delta)\n",
    "\\sigma_x,\n",
    "\\end{equation}\n",
    "\n",
    "where $\\omega_0$ is the resonance frequency, $A$ the driving amplitude and\n",
    "$\\delta$ the phase shift of the driving signal.\n"
   ],
   "metadata": {
    "collapsed": false
   }
  },
  {
   "cell_type": "code",
   "execution_count": 1,
   "outputs": [],
   "source": [
    "import numpy as np\n",
    "from qopt import *\n",
    "\n",
    "\n",
    "sigma_x = DenseOperator.pauli_x()\n",
    "sigma_y = DenseOperator.pauli_y()\n",
    "sigma_z = DenseOperator.pauli_z()\n",
    "zero_matrix = 0 * sigma_x\n",
    "\n",
    "omega_0 = 10 * 2 * np.pi  # Ghz\n",
    "\n",
    "h_ctrl_lab = [sigma_x, ]\n",
    "h_drift_lab = [omega_0 * sigma_z * .5]\n",
    "\n",
    "n_time_steps = 5000\n",
    "total_time = 25  # ns\n",
    "\n",
    "time_steps = (total_time / n_time_steps) * np.ones((n_time_steps, ))\n",
    "\n",
    "solver_lab = SchroedingerSolver(\n",
    "    h_drift=h_drift_lab * n_time_steps,\n",
    "    h_ctrl=h_ctrl_lab,\n",
    "    initial_state=DenseOperator(np.eye(2)),\n",
    "    tau=time_steps\n",
    ")"
   ],
   "metadata": {
    "collapsed": false,
    "pycharm": {
     "name": "#%%\n"
    }
   }
  },
  {
   "cell_type": "markdown",
   "source": [
    "Note that we need to simulate many more time steps to resolve the driving\n",
    "frequency.\n",
    "\n",
    "### Task:\n",
    "\n",
    "Generate a resonant driving signal with constant amplitude of\n",
    "$2 \\pi \\cdot 10 \\mu \\text{s}^{-1}$ and simulate the qubits evolution.\n",
    "\n",
    "Hints:\n",
    "-  The control amplitudes must still be a two dimensional numpy array of the\n",
    "shape: (number of time steps, number of control operators)"
   ],
   "metadata": {
    "collapsed": false,
    "pycharm": {
     "name": "#%% md\n"
    }
   }
  },
  {
   "cell_type": "code",
   "execution_count": 2,
   "outputs": [],
   "source": [
    "# Solution:\n"
   ],
   "metadata": {
    "collapsed": false,
    "pycharm": {
     "name": "#%%\n"
    }
   }
  },
  {
   "cell_type": "markdown",
   "source": [
    "The simulation has too many time points and moves to fast to be plotted on the\n",
    "bloch sphere.\n",
    "\n",
    "### Task:\n",
    "\n",
    "Plot the projection of the qubit state onto the z-axis as function of time."
   ],
   "metadata": {
    "collapsed": false,
    "pycharm": {
     "name": "#%% md\n"
    }
   }
  },
  {
   "cell_type": "code",
   "execution_count": 3,
   "outputs": [],
   "source": [],
   "metadata": {
    "collapsed": false,
    "pycharm": {
     "name": "#%%\n"
    }
   }
  },
  {
   "cell_type": "markdown",
   "source": [
    "### Question:\n",
    "\n",
    "Why is the projection only oscillating with the driving amplitude and not with\n",
    "the resonance frequency:"
   ],
   "metadata": {
    "collapsed": false,
    "pycharm": {
     "name": "#%% md\n"
    }
   }
  },
  {
   "cell_type": "markdown",
   "source": [
    "Answer:\n"
   ],
   "metadata": {
    "collapsed": false,
    "pycharm": {
     "name": "#%% md\n"
    }
   }
  },
  {
   "cell_type": "markdown",
   "source": [
    "### Task:\n",
    "\n",
    "Now generate an off-resonant driving signal, which is detuned by\n",
    "$100 $MHz and simulate the qubits evolution."
   ],
   "metadata": {
    "collapsed": false,
    "pycharm": {
     "name": "#%% md\n"
    }
   }
  },
  {
   "cell_type": "code",
   "execution_count": 4,
   "outputs": [],
   "source": [
    "# Solution:\n"
   ],
   "metadata": {
    "collapsed": false,
    "pycharm": {
     "name": "#%%\n"
    }
   }
  },
  {
   "cell_type": "markdown",
   "source": [
    "### Task:\n",
    "Calculate the entanglement fidelity of the quantum channel\n",
    "\n",
    "Hints:\n",
    "- The ideal operation is the idle operation. (No rotation at all.)"
   ],
   "metadata": {
    "collapsed": false,
    "pycharm": {
     "name": "#%% md\n"
    }
   }
  },
  {
   "cell_type": "code",
   "execution_count": 5,
   "outputs": [],
   "source": [
    "# Solution\n",
    "\n"
   ],
   "metadata": {
    "collapsed": false,
    "pycharm": {
     "name": "#%%\n"
    }
   }
  },
  {
   "cell_type": "markdown",
   "source": [
    "### Task:\n",
    "Generatre a driving signal modulated with a $\\text{sin}$ function:\n",
    "\\begin{equation}\n",
    "A \\rightarrow A \\cdot \\text{sin}(\\frac{\\pi t}{T}),\n",
    "\\end{equation}\n",
    "where $t$ is the time and $T$ the total gate time.\n",
    "Plot again the projection onto the $Z$-axis as function of time."
   ],
   "metadata": {
    "collapsed": false,
    "pycharm": {
     "name": "#%% md\n"
    }
   }
  },
  {
   "cell_type": "code",
   "execution_count": 6,
   "outputs": [],
   "source": [
    "# Solution\n",
    "\n",
    "\n",
    "\n"
   ],
   "metadata": {
    "collapsed": false,
    "pycharm": {
     "name": "#%%\n"
    }
   }
  },
  {
   "cell_type": "markdown",
   "source": [
    "### Task:\n",
    "Calculate again the entanglement fidelity:"
   ],
   "metadata": {
    "collapsed": false
   }
  },
  {
   "cell_type": "code",
   "execution_count": null,
   "outputs": [],
   "source": [
    "# Solution:\n"
   ],
   "metadata": {
    "collapsed": false,
    "pycharm": {
     "name": "#%%\n"
    }
   }
  },
  {
   "cell_type": "markdown",
   "source": [
    "### Question:\n",
    "Why is the fidelity so much higher if we modulate with a $\\text{sin}$\n",
    "function?\n",
    "\n",
    "Hint:\n",
    "Think about the Fourier transformed signal."
   ],
   "metadata": {
    "collapsed": false
   }
  },
  {
   "cell_type": "markdown",
   "source": [
    "Answer:"
   ],
   "metadata": {
    "collapsed": false
   }
  }
 ],
 "metadata": {
  "kernelspec": {
   "display_name": "Python 3",
   "language": "python",
   "name": "python3"
  },
  "language_info": {
   "codemirror_mode": {
    "name": "ipython",
    "version": 2
   },
   "file_extension": ".py",
   "mimetype": "text/x-python",
   "name": "python",
   "nbconvert_exporter": "python",
   "pygments_lexer": "ipython2",
   "version": "2.7.6"
  }
 },
 "nbformat": 4,
 "nbformat_minor": 0
}