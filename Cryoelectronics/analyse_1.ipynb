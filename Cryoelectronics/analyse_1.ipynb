{
 "cells": [
  {
   "cell_type": "code",
   "execution_count": 1,
   "metadata": {
    "collapsed": true,
    "pycharm": {
     "name": "#%%\n"
    }
   },
   "outputs": [],
   "source": [
    "import numpy as np\n",
    "import matplotlib\n",
    "from matplotlib import ticker as mticker\n",
    "import matplotlib.pyplot as plt\n",
    "import matplotlib.patches as mpatches\n",
    "from cryoelectronics.cryoel_model import discretize_pulses, \\\n",
    "    optimizer, n_digits_discrete_opt, create_discrete_optimizer\n",
    "\n",
    "from qopt import *\n",
    "import os\n",
    "\n",
    "latex_font = {'family': 'Times New Roman',\n",
    "              'size': 10}\n",
    "matplotlib.rc('font', **latex_font)\n",
    "plt.rcParams[\"mathtext.fontset\"] = \"cm\"\n",
    "\n",
    "\n",
    "root_folder = r\"C:\\Users\\julia\\Desktop\\SimulationData\\Cryoelectronics\"\n",
    "\n",
    "continuous_folder = os.path.join(root_folder, \"ContinuousOptimization\")\n",
    "discrete_folder = os.path.join(root_folder, \"DiscreteOptimization\")\n",
    "\n",
    "assert os.path.isdir(continuous_folder)\n",
    "assert os.path.isdir(discrete_folder)\n",
    "\n",
    "identifier = \"2022_09_23_first_execution\"\n",
    "\n",
    "\n",
    "c_dir = os.path.join(continuous_folder, identifier)\n",
    "d_dir = os.path.join(discrete_folder, identifier)"
   ]
  },
  {
   "cell_type": "code",
   "execution_count": 2,
   "outputs": [],
   "source": [
    "# discretize the pulses that were optimized in the continuous pulse space\n",
    "c_file = os.path.join(c_dir, \"ContinuouslyOptimizedPulses\")\n",
    "data_continuous = DataContainer.from_pickle(c_file)\n",
    "\n",
    "n_opt = len(data_continuous.final_parameters)\n",
    "optimized_pulses = np.stack(data_continuous.final_parameters, axis=2)\n",
    "\n",
    "continuously_optimized_costs_syst = np.zeros(shape=(len(n_digits_discrete_opt), n_opt), dtype=float)\n",
    "continuously_optimized_costs_noise = np.zeros(shape=(len(n_digits_discrete_opt), n_opt), dtype=float)\n"
   ],
   "metadata": {
    "collapsed": false,
    "pycharm": {
     "name": "#%%\n"
    }
   }
  },
  {
   "cell_type": "code",
   "execution_count": 3,
   "outputs": [],
   "source": [
    "# calculate data\n",
    "for j, n_digits in enumerate(n_digits_discrete_opt):\n",
    "    integer_pulses, discretized_optimal_pulses = discretize_pulses(n_digits=n_digits, pulses=optimized_pulses)\n",
    "    for i in range(n_opt):\n",
    "        x = optimizer.system_simulator.wrapped_cost_functions(discretized_optimal_pulses[:, :, i])\n",
    "        continuously_optimized_costs_syst[j, i] = x[0]\n",
    "        continuously_optimized_costs_noise[j, i] = x[1]\n"
   ],
   "metadata": {
    "collapsed": false,
    "pycharm": {
     "name": "#%%\n"
    }
   }
  },
  {
   "cell_type": "code",
   "execution_count": 4,
   "outputs": [],
   "source": [
    "annealed_costs_syst = np.zeros(shape=(len(n_digits_discrete_opt), n_opt), dtype=float)\n",
    "annealed_costs_noise = np.zeros(shape=(len(n_digits_discrete_opt), n_opt), dtype=float)\n",
    "deviation_stored_values = np.zeros(shape=(len(n_digits_discrete_opt), n_opt), dtype=float)\n",
    "\n",
    "annealed_final_costs_from_pickle = np.zeros(shape=(len(n_digits_discrete_opt), n_opt), dtype=float)\n"
   ],
   "metadata": {
    "collapsed": false,
    "pycharm": {
     "name": "#%%\n"
    }
   }
  },
  {
   "cell_type": "code",
   "execution_count": 5,
   "outputs": [],
   "source": [
    "# recalculate the fidelity for the discretized pulses that were  discrete data (I didn't save them separately in the first simulation)\n",
    "\n",
    "for j, n_digits in enumerate(n_digits_discrete_opt):\n",
    "    discrete_optimizer = create_discrete_optimizer(n_digits=n_digits)\n",
    "    d_file = os.path.join(d_dir, 'AnnealedPulsesNDigits' + str(n_digits))\n",
    "    data_discrete = DataContainer.from_pickle(d_file)\n",
    "    annealed_final_costs_from_pickle[j, :] = data_discrete.final_costs\n",
    "    for k, pulse in enumerate(data_discrete.final_parameters):\n",
    "        infid = discrete_optimizer.system_simulator.wrapped_cost_functions(pulse=pulse)\n",
    "        annealed_costs_syst[j, k] = infid[0]\n",
    "        annealed_costs_noise[j, k] = infid[1]\n",
    "        deviation_stored_values[j, k] = np.abs(data_discrete.final_costs[k] - np.linalg.norm(infid))\n",
    "\n",
    "\n"
   ],
   "metadata": {
    "collapsed": false,
    "pycharm": {
     "name": "#%%\n"
    }
   }
  },
  {
   "cell_type": "code",
   "execution_count": 6,
   "outputs": [],
   "source": [
    "# store recalculated data\n",
    "array_names = ['continuously_optimized_costs_syst',\n",
    "               'continuously_optimized_costs_noise',\n",
    "               'annealed_costs_syst',\n",
    "               'annealed_costs_noise']\n",
    "file_names = [\n",
    "    os.path.join(c_dir, s)\n",
    "    for s in array_names\n",
    "]\n",
    "for file_name, data in zip(file_names, [continuously_optimized_costs_syst, continuously_optimized_costs_noise, annealed_costs_syst, annealed_costs_noise]):\n",
    "    np.save(file_name, data)"
   ],
   "metadata": {
    "collapsed": false,
    "pycharm": {
     "name": "#%%\n"
    }
   }
  },
  {
   "cell_type": "code",
   "execution_count": 7,
   "outputs": [],
   "source": [
    "# load data\n",
    "for file_name, data in zip(file_names, [continuously_optimized_costs_syst, continuously_optimized_costs_noise, annealed_costs_syst, annealed_costs_noise]):\n",
    "    data = np.load(file_name + \".npy\")\n"
   ],
   "metadata": {
    "collapsed": false,
    "pycharm": {
     "name": "#%%\n"
    }
   }
  },
  {
   "cell_type": "code",
   "execution_count": 8,
   "outputs": [
    {
     "data": {
      "text/plain": "array([[1.29185908e-03, 7.63461970e-04, 3.74726830e-04, ...,\n        1.76488131e-03, 2.11705802e-04, 1.31604961e-04],\n       [2.00965265e-04, 8.98559247e-05, 6.62890964e-04, ...,\n        1.67774687e-04, 2.78724216e-04, 2.40683306e-04],\n       [2.76420445e-05, 1.10003607e-04, 1.17877519e-04, ...,\n        2.42442945e-05, 1.90854038e-04, 3.18967542e-05],\n       ...,\n       [2.17702620e-05, 1.44308871e-04, 4.64894054e-05, ...,\n        3.87864423e-06, 1.47716997e-04, 5.28453129e-05],\n       [1.39662060e-05, 1.27332198e-04, 2.60388888e-05, ...,\n        1.08130219e-06, 1.30594546e-04, 7.44629649e-05],\n       [1.20184021e-05, 1.36144484e-04, 1.90457193e-05, ...,\n        2.42234314e-07, 1.27843382e-04, 7.95222113e-05]])"
     },
     "execution_count": 8,
     "metadata": {},
     "output_type": "execute_result"
    }
   ],
   "source": [
    "continuously_optimized_costs_syst"
   ],
   "metadata": {
    "collapsed": false,
    "pycharm": {
     "name": "#%%\n"
    }
   }
  },
  {
   "cell_type": "code",
   "execution_count": 23,
   "outputs": [],
   "source": [
    "# positions we need to have 4 places for each digit number\n",
    "\n",
    "blank_space = .1  # This blank space is added at the vertical lines to separate violins belonging to different bits\n",
    "\n",
    "positions = np.zeros(shape=(4, len(n_digits_discrete_opt)), dtype=float)\n",
    "for i in range(4):\n",
    "    positions[i, :] = ((blank_space / 2) + 4 * np.arange(len(n_digits_discrete_opt)) + i * (1 - blank_space) - 1.5) / 4 + n_digits_discrete_opt[0]\n"
   ],
   "metadata": {
    "collapsed": false,
    "pycharm": {
     "name": "#%%\n"
    }
   }
  },
  {
   "cell_type": "code",
   "execution_count": 22,
   "outputs": [
    {
     "data": {
      "text/plain": "array([ 0,  4,  8, 12, 16, 20, 24])"
     },
     "execution_count": 22,
     "metadata": {},
     "output_type": "execute_result"
    }
   ],
   "source": [
    "4 * np.arange(len(n_digits_discrete_opt))"
   ],
   "metadata": {
    "collapsed": false,
    "pycharm": {
     "name": "#%%\n"
    }
   }
  },
  {
   "cell_type": "code",
   "execution_count": 24,
   "outputs": [
    {
     "name": "stderr",
     "output_type": "stream",
     "text": [
      "WARNING:matplotlib.backends.backend_ps:The PostScript backend does not support transparency; partially transparent artists will be rendered opaque.\n"
     ]
    },
    {
     "data": {
      "text/plain": "<Figure size 395.45x288 with 1 Axes>",
      "image/png": "[encoded data removed]"
     },
     "metadata": {
      "needs_background": "light"
     },
     "output_type": "display_data"
    }
   ],
   "source": [
    "fig, ax = plt.subplots(1, 1, figsize=(395.45 / 72, 4))\n",
    "\n",
    "labels = [r'Annealed $\\mathcal{I}_{s}$',\n",
    "          r'Annealed $\\mathcal{I}_{n}$',\n",
    "          r'Continuous $\\mathcal{I}_{s}$',\n",
    "          r'Continuous $\\mathcal{I}_{n}$']\n",
    "colors = ['red', 'blue', 'orange', 'green']\n",
    "patches = []\n",
    "\n",
    "for i, dataset in enumerate([\n",
    "    annealed_costs_syst,\n",
    "    annealed_costs_noise,\n",
    "    continuously_optimized_costs_syst,\n",
    "    continuously_optimized_costs_noise]):\n",
    "\n",
    "    if dataset is None:\n",
    "        continue\n",
    "\n",
    "    dataset[dataset == 0] = 1e-9\n",
    "    log_data_set = np.log10(dataset + 1e-10)\n",
    "\n",
    "    parts = ax.violinplot(\n",
    "        dataset=[log_data_set[k] for k in range(len(log_data_set))],\n",
    "        positions=positions[i, :],\n",
    "        showextrema=[False, ] * len(dataset),\n",
    "        widths=[.75 / 4, ] * len(dataset),\n",
    "    )\n",
    "    # artificial log scale\n",
    "    ax.yaxis.set_major_formatter(mticker.StrMethodFormatter(\"$10^{{{x:.0f}}}$\"))\n",
    "    ymin, ymax = ax.get_ylim()\n",
    "    tick_range = np.arange(np.floor(ymin), ymax)\n",
    "    ax.yaxis.set_ticks(tick_range)\n",
    "    ax.yaxis.set_ticks([np.log10(x) for p in tick_range for x in np.linspace(10 ** p, 10 ** (p + 1), 10)], minor=True)\n",
    "\n",
    "    for key in ['cmins', 'cmaxes', 'cbars']:\n",
    "        parts[key].set_color(colors[i])\n",
    "\n",
    "    for pc in parts['bodies']:\n",
    "        pc.set_facecolor(colors[i])\n",
    "        pc.set_edgecolor('black')\n",
    "        pc.set_alpha(1)\n",
    "\n",
    "    patches.append(mpatches.Patch(color=colors[i], label=labels[i]))\n",
    "\n",
    "\n",
    "ax.legend(handles=patches,\n",
    "          bbox_to_anchor=(.85,0),\n",
    "          ncol=2,\n",
    "          loc=\"lower right\")\n",
    "\n",
    "ax.set_xlabel('Number of binary digits $n_b$')\n",
    "ax.set_ylabel('Infidelity $\\mathcal{I}$')\n",
    "\n",
    "for n_v in range(6, 12):\n",
    "    ax.axvline(x = n_v + .5, c='k', ls=':')\n",
    "\n",
    "fig.tight_layout()\n",
    "fig.savefig(os.path.join(\n",
    "    r\"C:\\Users\\julia\\Desktop\\SimulationData\\Cryoelectronics\\Figures\",\n",
    "    \"AnnealedRounded.eps\"\n",
    "))\n",
    "\n",
    "# This does not look right. probably I will have to convert the data to a logscale manually.\n",
    "# I should verify this with a log histogram"
   ],
   "metadata": {
    "collapsed": false,
    "pycharm": {
     "name": "#%%\n"
    }
   }
  },
  {
   "cell_type": "code",
   "execution_count": 12,
   "outputs": [
    {
     "data": {
      "text/plain": "array([[1.e-09, 1.e-09, 1.e-09, ..., 1.e-09, 1.e-09, 1.e-09],\n       [1.e-09, 1.e-09, 1.e-09, ..., 1.e-09, 1.e-09, 1.e-09],\n       [1.e-09, 1.e-09, 1.e-09, ..., 1.e-09, 1.e-09, 1.e-09],\n       ...,\n       [1.e-09, 1.e-09, 1.e-09, ..., 1.e-09, 1.e-09, 1.e-09],\n       [1.e-09, 1.e-09, 1.e-09, ..., 1.e-09, 1.e-09, 1.e-09],\n       [1.e-09, 1.e-09, 1.e-09, ..., 1.e-09, 1.e-09, 1.e-09]])"
     },
     "execution_count": 12,
     "metadata": {},
     "output_type": "execute_result"
    }
   ],
   "source": [
    "annealed_costs_syst"
   ],
   "metadata": {
    "collapsed": false,
    "pycharm": {
     "name": "#%%\n"
    }
   }
  }
 ],
 "metadata": {
  "kernelspec": {
   "display_name": "Python 3",
   "language": "python",
   "name": "python3"
  },
  "language_info": {
   "codemirror_mode": {
    "name": "ipython",
    "version": 2
   },
   "file_extension": ".py",
   "mimetype": "text/x-python",
   "name": "python",
   "nbconvert_exporter": "python",
   "pygments_lexer": "ipython2",
   "version": "2.7.6"
  }
 },
 "nbformat": 4,
 "nbformat_minor": 0
}